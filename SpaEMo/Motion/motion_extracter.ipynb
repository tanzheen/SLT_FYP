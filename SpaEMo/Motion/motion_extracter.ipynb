{
 "cells": [
  {
   "cell_type": "code",
   "execution_count": 2,
   "metadata": {},
   "outputs": [],
   "source": [
    "# Load model directly\n",
    "from transformers import AutoImageProcessor, VideoMAEForVideoClassification, VideoMAEFeatureExtractor, VideoMAEModel, VideoMAEForPreTraining\n",
    "\n",
    "processor = AutoImageProcessor.from_pretrained(\"MCG-NJU/videomae-large-finetuned-kinetics\")\n",
    "model = VideoMAEModel.from_pretrained(\"MCG-NJU/videomae-large\")\n",
    "classifier = VideoMAEForVideoClassification.from_pretrained(\"MCG-NJU/videomae-large-finetuned-kinetics\")"
   ]
  },
  {
   "cell_type": "code",
   "execution_count": 9,
   "metadata": {},
   "outputs": [
    {
     "name": "stdout",
     "output_type": "stream",
     "text": [
      "torch.Size([3, 16, 3, 224, 224])\n",
      "[<PIL.Image.Image image mode=RGB size=210x260 at 0x2A95361D0>, <PIL.Image.Image image mode=RGB size=210x260 at 0x2AA2E3C10>, <PIL.Image.Image image mode=RGB size=210x260 at 0x2AFF40F90>, <PIL.Image.Image image mode=RGB size=210x260 at 0x2AA366C90>, <PIL.Image.Image image mode=RGB size=210x260 at 0x2AD4017D0>, <PIL.Image.Image image mode=RGB size=210x260 at 0x2AA340F50>, <PIL.Image.Image image mode=RGB size=210x260 at 0x2AA364310>, <PIL.Image.Image image mode=RGB size=210x260 at 0x2A96BBC10>, <PIL.Image.Image image mode=RGB size=210x260 at 0x2A9DDAFD0>, <PIL.Image.Image image mode=RGB size=210x260 at 0x2A9DDAF10>, <PIL.Image.Image image mode=RGB size=210x260 at 0x2AA690D10>, <PIL.Image.Image image mode=RGB size=210x260 at 0x2A9E0E950>, <PIL.Image.Image image mode=RGB size=210x260 at 0x2AA6B8B90>, <PIL.Image.Image image mode=RGB size=210x260 at 0x2A9D9B510>, <PIL.Image.Image image mode=RGB size=210x260 at 0x2AD400190>, <PIL.Image.Image image mode=RGB size=210x260 at 0x2AA6B9510>]\n"
     ]
    }
   ],
   "source": [
    "import os \n",
    "from torchvision import transforms\n",
    "import matplotlib.pyplot as plt\n",
    "\n",
    "from PIL import Image\n",
    "dir = '/Users/tannicholas/PHOENIX-2014-T-release-v3/PHOENIX-2014-T/features/fullFrame-210x260px/train/01December_2011_Thursday_tagesschau-3479'\n",
    "# PyTorch transformation to resize and convert to tensor\n",
    "image_paths = os.listdir(dir)\n",
    "images = [] \n",
    "for path in image_paths: \n",
    "    actual_path = os.path.join(dir, path)\n",
    "    \n",
    "    # Load the image\n",
    "    img = Image.open(actual_path).convert(\"RGB\")  # Ensures image is in RGB format\n",
    "    images.append(img)\n",
    "\n",
    "processed_images = processor(images=[images[0:16],images[8:24], images[16:32]] , return_tensors=\"pt\")\n",
    "print(processed_images.pixel_values.shape)\n",
    "\n",
    "print(images[0:16])"
   ]
  },
  {
   "cell_type": "code",
   "execution_count": 3,
   "metadata": {},
   "outputs": [
    {
     "name": "stdout",
     "output_type": "stream",
     "text": [
      "[[<PIL.Image.Image image mode=RGB size=210x260 at 0x2CF8E6F90>, <PIL.Image.Image image mode=RGB size=210x260 at 0x280AE50D0>, <PIL.Image.Image image mode=RGB size=210x260 at 0x282D97010>, <PIL.Image.Image image mode=RGB size=210x260 at 0x283CE94D0>, <PIL.Image.Image image mode=RGB size=210x260 at 0x28279A950>, <PIL.Image.Image image mode=RGB size=210x260 at 0x282DE8B10>, <PIL.Image.Image image mode=RGB size=210x260 at 0x282E6EED0>, <PIL.Image.Image image mode=RGB size=210x260 at 0x282E6FF50>, <PIL.Image.Image image mode=RGB size=210x260 at 0x2D6C8F010>, <PIL.Image.Image image mode=RGB size=210x260 at 0x282E6FF90>, <PIL.Image.Image image mode=RGB size=210x260 at 0x2D6C8E390>, <PIL.Image.Image image mode=RGB size=210x260 at 0x2D6C8E2D0>, <PIL.Image.Image image mode=RGB size=210x260 at 0x2D6C8E150>, <PIL.Image.Image image mode=RGB size=210x260 at 0x2D6C8DF90>, <PIL.Image.Image image mode=RGB size=210x260 at 0x1067B5A50>, <PIL.Image.Image image mode=RGB size=210x260 at 0x2D6C8DC90>], [<PIL.Image.Image image mode=RGB size=210x260 at 0x2D6C8F010>, <PIL.Image.Image image mode=RGB size=210x260 at 0x282E6FF90>, <PIL.Image.Image image mode=RGB size=210x260 at 0x2D6C8E390>, <PIL.Image.Image image mode=RGB size=210x260 at 0x2D6C8E2D0>, <PIL.Image.Image image mode=RGB size=210x260 at 0x2D6C8E150>, <PIL.Image.Image image mode=RGB size=210x260 at 0x2D6C8DF90>, <PIL.Image.Image image mode=RGB size=210x260 at 0x1067B5A50>, <PIL.Image.Image image mode=RGB size=210x260 at 0x2D6C8DC90>, <PIL.Image.Image image mode=RGB size=210x260 at 0x2CF8EA6D0>, <PIL.Image.Image image mode=RGB size=210x260 at 0x2CF8EA590>, <PIL.Image.Image image mode=RGB size=210x260 at 0x2D6C8D790>, <PIL.Image.Image image mode=RGB size=210x260 at 0x2D6C8D610>, <PIL.Image.Image image mode=RGB size=210x260 at 0x2D6C8D490>, <PIL.Image.Image image mode=RGB size=210x260 at 0x2D6C8D8D0>, <PIL.Image.Image image mode=RGB size=210x260 at 0x2D6C8D290>, <PIL.Image.Image image mode=RGB size=210x260 at 0x2A8D72A10>], [<PIL.Image.Image image mode=RGB size=210x260 at 0x2CF8EA6D0>, <PIL.Image.Image image mode=RGB size=210x260 at 0x2CF8EA590>, <PIL.Image.Image image mode=RGB size=210x260 at 0x2D6C8D790>, <PIL.Image.Image image mode=RGB size=210x260 at 0x2D6C8D610>, <PIL.Image.Image image mode=RGB size=210x260 at 0x2D6C8D490>, <PIL.Image.Image image mode=RGB size=210x260 at 0x2D6C8D8D0>, <PIL.Image.Image image mode=RGB size=210x260 at 0x2D6C8D290>, <PIL.Image.Image image mode=RGB size=210x260 at 0x2A8D72A10>, <PIL.Image.Image image mode=RGB size=210x260 at 0x2D6C8CF10>, <PIL.Image.Image image mode=RGB size=210x260 at 0x29507C210>, <PIL.Image.Image image mode=RGB size=210x260 at 0x2D6C8CBD0>, <PIL.Image.Image image mode=RGB size=210x260 at 0x2827A08D0>, <PIL.Image.Image image mode=RGB size=210x260 at 0x282D291D0>, <PIL.Image.Image image mode=RGB size=210x260 at 0x2D6CAF610>, <PIL.Image.Image image mode=RGB size=210x260 at 0x1068FF1D0>, <PIL.Image.Image image mode=RGB size=210x260 at 0x2D6CAF850>], [<PIL.Image.Image image mode=RGB size=210x260 at 0x2D6C8CF10>, <PIL.Image.Image image mode=RGB size=210x260 at 0x29507C210>, <PIL.Image.Image image mode=RGB size=210x260 at 0x2D6C8CBD0>, <PIL.Image.Image image mode=RGB size=210x260 at 0x2827A08D0>, <PIL.Image.Image image mode=RGB size=210x260 at 0x282D291D0>, <PIL.Image.Image image mode=RGB size=210x260 at 0x2D6CAF610>, <PIL.Image.Image image mode=RGB size=210x260 at 0x1068FF1D0>, <PIL.Image.Image image mode=RGB size=210x260 at 0x2D6CAF850>, <PIL.Image.Image image mode=RGB size=210x260 at 0x2D6C8EDD0>, <PIL.Image.Image image mode=RGB size=210x260 at 0x2D6CAF110>, <PIL.Image.Image image mode=RGB size=210x260 at 0x2D6CAEE10>, <PIL.Image.Image image mode=RGB size=210x260 at 0x2CF8EA1D0>, <PIL.Image.Image image mode=RGB size=210x260 at 0x2D6CAEC10>, <PIL.Image.Image image mode=RGB size=210x260 at 0x2D6C8E610>, <PIL.Image.Image image mode=RGB size=210x260 at 0x2D6C8E610>, <PIL.Image.Image image mode=RGB size=210x260 at 0x2D6C8E610>]]\n",
      "16\n",
      "torch.Size([4, 16, 3, 224, 224])\n"
     ]
    },
    {
     "name": "stderr",
     "output_type": "stream",
     "text": [
      "/opt/homebrew/lib/python3.11/site-packages/transformers/feature_extraction_utils.py:142: UserWarning: Creating a tensor from a list of numpy.ndarrays is extremely slow. Please consider converting the list to a single numpy.ndarray with numpy.array() before converting to a tensor. (Triggered internally at /Users/runner/work/pytorch/pytorch/pytorch/torch/csrc/utils/tensor_new.cpp:277.)\n",
      "  return torch.tensor(value)\n"
     ]
    }
   ],
   "source": [
    "import os \n",
    "from torchvision import transforms\n",
    "import matplotlib.pyplot as plt\n",
    "import math \n",
    "from PIL import Image\n",
    "dir = '/Users/tannicholas/PHOENIX-2014-T-release-v3/PHOENIX-2014-T/features/fullFrame-210x260px/train/01December_2011_Thursday_tagesschau-3479'\n",
    "# PyTorch transformation to resize and convert to tensor\n",
    "image_paths = os.listdir(dir)\n",
    "img_sample = [] \n",
    "for path in image_paths: \n",
    "    actual_path = os.path.join(dir, path)\n",
    "    \n",
    "    # Load the image\n",
    "    img = Image.open(actual_path).convert(\"RGB\")  # Ensures image is in RGB format\n",
    "    img_sample .append(img)\n",
    "num_clips = math.ceil((len(img_sample)-8) / 8)\n",
    "num_frames = num_clips * 8 +8\n",
    "# if not enough frames, repeat the last frame\n",
    "img_sample.extend([img_sample[-1]]*(num_frames-len(img_sample)))\n",
    "\n",
    "clip_sample = [img_sample[i:i+16] for i in range(0, len(img_sample), 8) \n",
    "               if len(img_sample[i:i+16])==16 if len(img_sample)-i>8]\n",
    "print(clip_sample)\n",
    "print(len(clip_sample[3]))\n",
    "processed_images = processor(images=clip_sample , return_tensors=\"pt\")\n",
    "print(processed_images.pixel_values.shape)"
   ]
  },
  {
   "cell_type": "code",
   "execution_count": 4,
   "metadata": {},
   "outputs": [
    {
     "name": "stdout",
     "output_type": "stream",
     "text": [
      "odict_keys(['last_hidden_state', 'hidden_states'])\n",
      "torch.Size([4, 1568, 1024])\n"
     ]
    }
   ],
   "source": [
    "output = model(processed_images.pixel_values, output_hidden_states=True)\n",
    "print(output.keys())\n",
    "print(output.last_hidden_state.shape)\n"
   ]
  },
  {
   "cell_type": "code",
   "execution_count": 72,
   "metadata": {},
   "outputs": [
    {
     "data": {
      "text/plain": [
       "VideoMAEModel(\n",
       "  (embeddings): VideoMAEEmbeddings(\n",
       "    (patch_embeddings): VideoMAEPatchEmbeddings(\n",
       "      (projection): Conv3d(3, 1024, kernel_size=(2, 16, 16), stride=(2, 16, 16))\n",
       "    )\n",
       "  )\n",
       "  (encoder): VideoMAEEncoder(\n",
       "    (layer): ModuleList(\n",
       "      (0-23): 24 x VideoMAELayer(\n",
       "        (attention): VideoMAESdpaAttention(\n",
       "          (attention): VideoMAESdpaSelfAttention(\n",
       "            (query): Linear(in_features=1024, out_features=1024, bias=False)\n",
       "            (key): Linear(in_features=1024, out_features=1024, bias=False)\n",
       "            (value): Linear(in_features=1024, out_features=1024, bias=False)\n",
       "            (dropout): Dropout(p=0.0, inplace=False)\n",
       "          )\n",
       "          (output): VideoMAESelfOutput(\n",
       "            (dense): Linear(in_features=1024, out_features=1024, bias=True)\n",
       "            (dropout): Dropout(p=0.0, inplace=False)\n",
       "          )\n",
       "        )\n",
       "        (intermediate): VideoMAEIntermediate(\n",
       "          (dense): Linear(in_features=1024, out_features=4096, bias=True)\n",
       "          (intermediate_act_fn): GELUActivation()\n",
       "        )\n",
       "        (output): VideoMAEOutput(\n",
       "          (dense): Linear(in_features=4096, out_features=1024, bias=True)\n",
       "          (dropout): Dropout(p=0.0, inplace=False)\n",
       "        )\n",
       "        (layernorm_before): LayerNorm((1024,), eps=1e-12, elementwise_affine=True)\n",
       "        (layernorm_after): LayerNorm((1024,), eps=1e-12, elementwise_affine=True)\n",
       "      )\n",
       "    )\n",
       "  )\n",
       "  (layernorm): LayerNorm((1024,), eps=1e-12, elementwise_affine=True)\n",
       ")"
      ]
     },
     "execution_count": 72,
     "metadata": {},
     "output_type": "execute_result"
    }
   ],
   "source": [
    "model"
   ]
  },
  {
   "cell_type": "code",
   "execution_count": 55,
   "metadata": {},
   "outputs": [
    {
     "data": {
      "text/plain": [
       "VideoMAEForVideoClassification(\n",
       "  (videomae): VideoMAEModel(\n",
       "    (embeddings): VideoMAEEmbeddings(\n",
       "      (patch_embeddings): VideoMAEPatchEmbeddings(\n",
       "        (projection): Conv3d(3, 1024, kernel_size=(2, 16, 16), stride=(2, 16, 16))\n",
       "      )\n",
       "    )\n",
       "    (encoder): VideoMAEEncoder(\n",
       "      (layer): ModuleList(\n",
       "        (0-23): 24 x VideoMAELayer(\n",
       "          (attention): VideoMAESdpaAttention(\n",
       "            (attention): VideoMAESdpaSelfAttention(\n",
       "              (query): Linear(in_features=1024, out_features=1024, bias=False)\n",
       "              (key): Linear(in_features=1024, out_features=1024, bias=False)\n",
       "              (value): Linear(in_features=1024, out_features=1024, bias=False)\n",
       "              (dropout): Dropout(p=0.0, inplace=False)\n",
       "            )\n",
       "            (output): VideoMAESelfOutput(\n",
       "              (dense): Linear(in_features=1024, out_features=1024, bias=True)\n",
       "              (dropout): Dropout(p=0.0, inplace=False)\n",
       "            )\n",
       "          )\n",
       "          (intermediate): VideoMAEIntermediate(\n",
       "            (dense): Linear(in_features=1024, out_features=4096, bias=True)\n",
       "            (intermediate_act_fn): GELUActivation()\n",
       "          )\n",
       "          (output): VideoMAEOutput(\n",
       "            (dense): Linear(in_features=4096, out_features=1024, bias=True)\n",
       "            (dropout): Dropout(p=0.0, inplace=False)\n",
       "          )\n",
       "          (layernorm_before): LayerNorm((1024,), eps=1e-12, elementwise_affine=True)\n",
       "          (layernorm_after): LayerNorm((1024,), eps=1e-12, elementwise_affine=True)\n",
       "        )\n",
       "      )\n",
       "    )\n",
       "  )\n",
       "  (fc_norm): LayerNorm((1024,), eps=1e-05, elementwise_affine=True)\n",
       "  (classifier): Linear(in_features=1024, out_features=400, bias=True)\n",
       ")"
      ]
     },
     "execution_count": 55,
     "metadata": {},
     "output_type": "execute_result"
    }
   ],
   "source": [
    "classifier"
   ]
  },
  {
   "cell_type": "code",
   "execution_count": 84,
   "metadata": {},
   "outputs": [
    {
     "name": "stdout",
     "output_type": "stream",
     "text": [
      "sign language interpreting\n"
     ]
    }
   ],
   "source": [
    "output= classifier(processed_images.pixel_values)\n",
    "logits = output.logits\n",
    "predicted_label = logits.argmax(-1).item()\n",
    "print(classifier.config.id2label[predicted_label])"
   ]
  },
  {
   "cell_type": "code",
   "execution_count": 85,
   "metadata": {},
   "outputs": [
    {
     "data": {
      "text/plain": [
       "torch.Size([1, 400])"
      ]
     },
     "execution_count": 85,
     "metadata": {},
     "output_type": "execute_result"
    }
   ],
   "source": [
    "logits.shape"
   ]
  },
  {
   "cell_type": "code",
   "execution_count": 5,
   "metadata": {},
   "outputs": [
    {
     "name": "stdout",
     "output_type": "stream",
     "text": [
      "features before layer norm: torch.Size([4, 1568, 1024])\n",
      "Encoded video features shape: torch.Size([4, 1024])\n",
      "torch.Size([4, 400])\n",
      "tensor([303, 303, 303, 303])\n"
     ]
    }
   ],
   "source": [
    "import torch \n",
    "with torch.no_grad():\n",
    "    # Forward pass up to the encoder and normalization layer\n",
    "    features = classifier.videomae(processed_images.pixel_values).last_hidden_state  # Shape: [batch_size, num_patches, feature_dim]\n",
    "    print(f\"features before layer norm: {features.shape}\")\n",
    "    # Apply the final LayerNorm before the classifier\n",
    "    features1 = classifier.fc_norm(features.mean(dim=1))  # Shape: [batch_size, 1024]\n",
    "    ## This is wrong features2 = classifier.fc_norm(features).mean(dim=1)  # Shape: [batch_size, 1024]\n",
    "    label = classifier.classifier(features1)  # Shape: [batch_size, num_labels]\n",
    "print(\"Encoded video features shape:\", features1.shape)\n",
    "print(label.shape)\n",
    "print(label.argmax(-1))"
   ]
  },
  {
   "cell_type": "code",
   "execution_count": 11,
   "metadata": {},
   "outputs": [
    {
     "data": {
      "text/plain": [
       "torch.Size([4, 1024])"
      ]
     },
     "execution_count": 11,
     "metadata": {},
     "output_type": "execute_result"
    }
   ],
   "source": [
    "features1.shape"
   ]
  },
  {
   "cell_type": "code",
   "execution_count": 21,
   "metadata": {},
   "outputs": [
    {
     "data": {
      "text/plain": [
       "torch.Size([8, 1024])"
      ]
     },
     "execution_count": 21,
     "metadata": {},
     "output_type": "execute_result"
    }
   ],
   "source": [
    "tensor = features1.repeat(2,1)\n",
    "tensor.shape"
   ]
  },
  {
   "cell_type": "code",
   "execution_count": 26,
   "metadata": {},
   "outputs": [
    {
     "data": {
      "text/plain": [
       "torch.Size([8, 1024])"
      ]
     },
     "execution_count": 26,
     "metadata": {},
     "output_type": "execute_result"
    }
   ],
   "source": [
    "tensor = torch.tile(features1, (2,1))\n",
    "tensor.shape"
   ]
  },
  {
   "cell_type": "code",
   "execution_count": 33,
   "metadata": {},
   "outputs": [
    {
     "name": "stdout",
     "output_type": "stream",
     "text": [
      "torch.Size([8, 1024])\n"
     ]
    },
    {
     "data": {
      "text/plain": [
       "tensor([-0.0981,  0.1119, -0.0841,  ...,  0.1306, -0.2328,  0.0359])"
      ]
     },
     "execution_count": 33,
     "metadata": {},
     "output_type": "execute_result"
    }
   ],
   "source": [
    "# Original tensor\n",
    "\n",
    "\n",
    "# Add a new dimension and repeat along that dimension\n",
    "expanded = features1.unsqueeze(1).repeat(1, 2, 1)\n",
    "result = expanded.view(-1, features1.size(1))\n",
    "print(result.shape)\n",
    "result[0]\n",
    "# Output:\n",
    "# tensor([[1, 2],\n",
    "#         [1, 2],\n",
    "#         [2, 4],\n",
    "#         [2, 4]])"
   ]
  },
  {
   "cell_type": "code",
   "execution_count": null,
   "metadata": {},
   "outputs": [],
   "source": []
  },
  {
   "cell_type": "code",
   "execution_count": 32,
   "metadata": {},
   "outputs": [
    {
     "data": {
      "text/plain": [
       "tensor([-0.0981,  0.1119, -0.0841,  ...,  0.1306, -0.2328,  0.0359])"
      ]
     },
     "execution_count": 32,
     "metadata": {},
     "output_type": "execute_result"
    }
   ],
   "source": [
    "result[1]"
   ]
  },
  {
   "cell_type": "code",
   "execution_count": 29,
   "metadata": {},
   "outputs": [
    {
     "data": {
      "text/plain": [
       "tensor([-0.0745,  0.2571, -0.1593,  ...,  0.0703, -0.2853,  0.0805])"
      ]
     },
     "execution_count": 29,
     "metadata": {},
     "output_type": "execute_result"
    }
   ],
   "source": [
    "tensor[1]"
   ]
  },
  {
   "cell_type": "code",
   "execution_count": 36,
   "metadata": {},
   "outputs": [
    {
     "data": {
      "text/plain": [
       "tensor([2, 4, 6, 8])"
      ]
     },
     "execution_count": 36,
     "metadata": {},
     "output_type": "execute_result"
    }
   ],
   "source": [
    "torch.tensor([1,2,3,4])+ torch.tensor([1,2,3,4])\n",
    "\n"
   ]
  },
  {
   "cell_type": "markdown",
   "metadata": {},
   "source": []
  },
  {
   "cell_type": "code",
   "execution_count": null,
   "metadata": {},
   "outputs": [],
   "source": []
  }
 ],
 "metadata": {
  "kernelspec": {
   "display_name": "Python 3",
   "language": "python",
   "name": "python3"
  },
  "language_info": {
   "codemirror_mode": {
    "name": "ipython",
    "version": 3
   },
   "file_extension": ".py",
   "mimetype": "text/x-python",
   "name": "python",
   "nbconvert_exporter": "python",
   "pygments_lexer": "ipython3",
   "version": "3.11.7"
  }
 },
 "nbformat": 4,
 "nbformat_minor": 2
}
