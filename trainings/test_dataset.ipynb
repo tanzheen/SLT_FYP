{
 "cells": [
  {
   "cell_type": "code",
   "execution_count": 2,
   "metadata": {},
   "outputs": [],
   "source": [
    "# *torch\n",
    "from pickletools import optimize\n",
    "# from sched import scheduler\n",
    "import torch\n",
    "import torch.backends.cudnn as cudnn\n",
    "from torch.optim import lr_scheduler as scheduler\n",
    "from torch.nn.utils.rnn import pad_sequence\n",
    "from torch.nn import functional as F\n",
    "from torch import nn\n",
    "from torch.utils.data import DataLoader\n",
    "\n",
    "# *transformers\n",
    "from transformers import MBartForConditionalGeneration, MBartTokenizer, MBartConfig\n",
    "\n",
    "\n",
    "import utils as utils\n",
    "\n",
    "\n",
    "# *basic\n",
    "import os\n",
    "import time\n",
    "import shutil\n",
    "import json, datetime\n",
    "import numpy as np\n",
    "from collections import OrderedDict\n",
    "from tqdm import tqdm\n",
    "import yaml\n",
    "import random\n",
    "import wandb\n",
    "import copy\n",
    "from pathlib import Path\n",
    "import math\n",
    "import sys\n",
    "from typing import Iterable, Optional\n",
    "from loguru import logger\n",
    "\n",
    "from sacrebleu.metrics import BLEU, CHRF, TER\n",
    "\n",
    "# *timm\n",
    "from timm.optim import create_optimizer\n",
    "from timm.scheduler import create_scheduler\n",
    "from timm.utils import NativeScaler\n",
    "from timm.loss import SoftTargetCrossEntropy\n",
    "from timm.optim import AdamW\n",
    "\n",
    "# visualization\n",
    "from torchvision.utils import save_image, make_grid\n",
    "from PIL import Image\n",
    "import argparse\n",
    "from hpman.m import _\n",
    "import hpargparse\n",
    "\n",
    "# global definition\n",
    "from definition import *\n",
    "\n",
    "import gzip\n",
    "import pickle\n",
    "import torch\n"
   ]
  },
  {
   "cell_type": "code",
   "execution_count": 3,
   "metadata": {},
   "outputs": [
    {
     "name": "stdout",
     "output_type": "stream",
     "text": [
      "darwin\n"
     ]
    },
    {
     "data": {
      "text/plain": [
       "Namespace(batch_size=8, epochs=80, finetune='/Users/tannicholas/Library/Jupyter/runtime/kernel-v2-121984zAaD9VIhPyz.json', opt='adamw', opt_eps=1e-09, opt_betas=None, clip_grad=None, momentum=0.9, weight_decay=0.0, sched='cosine', lr=0.001, lr_noise=None, lr_noise_pct=0.67, lr_noise_std=1.0, warmup_lr=1e-06, min_lr=1e-08, decay_epochs=30, warmup_epochs=0, cooldown_epochs=10, patience_epochs=10, decay_rate=0.1, output_dir='', device='mps', seed=0, resume='', start_epoch=0, eval=False, num_workers=0, pin_mem=False, config='./config_gloss_free_CSL_daily.yaml', input_size=224, resize=256, log_all=False, entity=None, project='VLP', training_refurbish=True, noise_rate=0.15, noise_type='omit_last', random_shuffle=False, loss_lambda=1.0, hp_save=None, hp_load=None, hp_list=None, hp_detail=False, hp_serial_format='auto', hp_exit=False)"
      ]
     },
     "execution_count": 3,
     "metadata": {},
     "output_type": "execute_result"
    }
   ],
   "source": [
    "\n",
    "from prep_args import * \n",
    "parser = argparse.ArgumentParser('Visual-Language-Pretraining (VLP) V2 scripts', parents=[get_args_parser()])\n",
    "\n",
    "hpargparse.bind(parser, _)\n",
    "args = parser.parse_args()\n",
    "args"
   ]
  },
  {
   "cell_type": "code",
   "execution_count": 4,
   "metadata": {},
   "outputs": [
    {
     "data": {
      "text/plain": [
       "{'name': 'GFSLT-VLP CSL-Daily',\n",
       " 'data': {'train': '../../CSL-Daily/sentence_label/processed/labels_train.pkl',\n",
       "  'dev': '../../CSL-Daily/sentence_label/processed/labels_dev.pkl',\n",
       "  'test': '../../CSL-Daily/sentence_label/processed/labels_test.pkl',\n",
       "  'img_path': '../../CSL-Daily/sentence/frames_512x512/',\n",
       "  'max_length': 300},\n",
       " 'training': {'wandb': 'disabled',\n",
       "  'scale_embedding': False,\n",
       "  'tgt_lang': 'zh_CN'},\n",
       " 'model': {'transformer': 'facebook/mbart-large-50-many-to-many-mmt',\n",
       "  'visual_encoder': '../pretrain_models/mytran',\n",
       "  'sign_proj': True}}"
      ]
     },
     "execution_count": 4,
     "metadata": {},
     "output_type": "execute_result"
    }
   ],
   "source": [
    "with open(args.config, 'r+', encoding='utf-8') as f:\n",
    "        config = yaml.load(f, Loader=yaml.FullLoader)\n",
    "\n",
    "config"
   ]
  },
  {
   "cell_type": "code",
   "execution_count": 1,
   "metadata": {},
   "outputs": [
    {
     "name": "stderr",
     "output_type": "stream",
     "text": [
      "c:\\Users\\User\\AppData\\Local\\Programs\\Python\\Python311\\Lib\\site-packages\\tqdm\\auto.py:21: TqdmWarning: IProgress not found. Please update jupyter and ipywidgets. See https://ipywidgets.readthedocs.io/en/stable/user_install.html\n",
      "  from .autonotebook import tqdm as notebook_tqdm\n",
      "c:\\Users\\User\\AppData\\Local\\Programs\\Python\\Python311\\Lib\\site-packages\\transformers\\tokenization_utils_base.py:1601: FutureWarning: `clean_up_tokenization_spaces` was not set. It will be set to `True` by default. This behavior will be depracted in transformers v4.45, and will be then set to `False` by default. For more details check this issue: https://github.com/huggingface/transformers/issues/31884\n",
      "  warnings.warn(\n",
      "Asking to truncate to max_length but no maximum length is provided and the model has no predefined maximum length. Default to no truncation.\n"
     ]
    },
    {
     "name": "stdout",
     "output_type": "stream",
     "text": [
      "tokenizer tgt lang None\n",
      "{'input_ids': tensor([[250004,      6, 100013, 101676,  27683,   1344,     30,      2,      1],\n",
      "        [250004,      6,   8513,  83757, 101676,  27683,   1344,     30,      2]]), 'attention_mask': tensor([[1, 1, 1, 1, 1, 1, 1, 1, 0],\n",
      "        [1, 1, 1, 1, 1, 1, 1, 1, 1]])}\n",
      "tensor([[250004,      6, 100013, 101676,  27683,   1344,     30,      2,      1],\n",
      "        [250004,      6,   8513,  83757, 101676,  27683,   1344,     30,      2]])\n"
     ]
    },
    {
     "ename": "TypeError",
     "evalue": "int() argument must be a string, a bytes-like object or a real number, not 'list'",
     "output_type": "error",
     "traceback": [
      "\u001b[1;31m---------------------------------------------------------------------------\u001b[0m",
      "\u001b[1;31mTypeError\u001b[0m                                 Traceback (most recent call last)",
      "Cell \u001b[1;32mIn[1], line 15\u001b[0m\n\u001b[0;32m     13\u001b[0m model \u001b[38;5;241m=\u001b[39m MBartForConditionalGeneration\u001b[38;5;241m.\u001b[39mfrom_pretrained(\u001b[38;5;124m\"\u001b[39m\u001b[38;5;124mfacebook/mbart-large-50-many-to-many-mmt\u001b[39m\u001b[38;5;124m\"\u001b[39m)\n\u001b[0;32m     14\u001b[0m output \u001b[38;5;241m=\u001b[39m model\u001b[38;5;241m.\u001b[39mgenerate(input_ids, max_length\u001b[38;5;241m=\u001b[39m\u001b[38;5;241m50\u001b[39m)\n\u001b[1;32m---> 15\u001b[0m generated_text \u001b[38;5;241m=\u001b[39m \u001b[43mtokenizer\u001b[49m\u001b[38;5;241;43m.\u001b[39;49m\u001b[43mdecode\u001b[49m\u001b[43m(\u001b[49m\u001b[43minput_ids\u001b[49m\u001b[43m,\u001b[49m\u001b[43m \u001b[49m\u001b[43mskip_special_tokens\u001b[49m\u001b[38;5;241;43m=\u001b[39;49m\u001b[38;5;28;43;01mTrue\u001b[39;49;00m\u001b[43m)\u001b[49m\n\u001b[0;32m     16\u001b[0m \u001b[38;5;28mprint\u001b[39m(generated_text)\n",
      "File \u001b[1;32mc:\\Users\\User\\AppData\\Local\\Programs\\Python\\Python311\\Lib\\site-packages\\transformers\\tokenization_utils_base.py:4016\u001b[0m, in \u001b[0;36mPreTrainedTokenizerBase.decode\u001b[1;34m(self, token_ids, skip_special_tokens, clean_up_tokenization_spaces, **kwargs)\u001b[0m\n\u001b[0;32m   4013\u001b[0m \u001b[38;5;66;03m# Convert inputs to python lists\u001b[39;00m\n\u001b[0;32m   4014\u001b[0m token_ids \u001b[38;5;241m=\u001b[39m to_py_obj(token_ids)\n\u001b[1;32m-> 4016\u001b[0m \u001b[38;5;28;01mreturn\u001b[39;00m \u001b[38;5;28;43mself\u001b[39;49m\u001b[38;5;241;43m.\u001b[39;49m\u001b[43m_decode\u001b[49m\u001b[43m(\u001b[49m\n\u001b[0;32m   4017\u001b[0m \u001b[43m    \u001b[49m\u001b[43mtoken_ids\u001b[49m\u001b[38;5;241;43m=\u001b[39;49m\u001b[43mtoken_ids\u001b[49m\u001b[43m,\u001b[49m\n\u001b[0;32m   4018\u001b[0m \u001b[43m    \u001b[49m\u001b[43mskip_special_tokens\u001b[49m\u001b[38;5;241;43m=\u001b[39;49m\u001b[43mskip_special_tokens\u001b[49m\u001b[43m,\u001b[49m\n\u001b[0;32m   4019\u001b[0m \u001b[43m    \u001b[49m\u001b[43mclean_up_tokenization_spaces\u001b[49m\u001b[38;5;241;43m=\u001b[39;49m\u001b[43mclean_up_tokenization_spaces\u001b[49m\u001b[43m,\u001b[49m\n\u001b[0;32m   4020\u001b[0m \u001b[43m    \u001b[49m\u001b[38;5;241;43m*\u001b[39;49m\u001b[38;5;241;43m*\u001b[39;49m\u001b[43mkwargs\u001b[49m\u001b[43m,\u001b[49m\n\u001b[0;32m   4021\u001b[0m \u001b[43m\u001b[49m\u001b[43m)\u001b[49m\n",
      "File \u001b[1;32mc:\\Users\\User\\AppData\\Local\\Programs\\Python\\Python311\\Lib\\site-packages\\transformers\\tokenization_utils.py:1081\u001b[0m, in \u001b[0;36mPreTrainedTokenizer._decode\u001b[1;34m(self, token_ids, skip_special_tokens, clean_up_tokenization_spaces, spaces_between_special_tokens, **kwargs)\u001b[0m\n\u001b[0;32m   1071\u001b[0m \u001b[38;5;28;01mdef\u001b[39;00m \u001b[38;5;21m_decode\u001b[39m(\n\u001b[0;32m   1072\u001b[0m     \u001b[38;5;28mself\u001b[39m,\n\u001b[0;32m   1073\u001b[0m     token_ids: List[\u001b[38;5;28mint\u001b[39m],\n\u001b[1;32m   (...)\u001b[0m\n\u001b[0;32m   1077\u001b[0m     \u001b[38;5;241m*\u001b[39m\u001b[38;5;241m*\u001b[39mkwargs,\n\u001b[0;32m   1078\u001b[0m ) \u001b[38;5;241m-\u001b[39m\u001b[38;5;241m>\u001b[39m \u001b[38;5;28mstr\u001b[39m:\n\u001b[0;32m   1079\u001b[0m     \u001b[38;5;28mself\u001b[39m\u001b[38;5;241m.\u001b[39m_decode_use_source_tokenizer \u001b[38;5;241m=\u001b[39m kwargs\u001b[38;5;241m.\u001b[39mpop(\u001b[38;5;124m\"\u001b[39m\u001b[38;5;124muse_source_tokenizer\u001b[39m\u001b[38;5;124m\"\u001b[39m, \u001b[38;5;28;01mFalse\u001b[39;00m)\n\u001b[1;32m-> 1081\u001b[0m     filtered_tokens \u001b[38;5;241m=\u001b[39m \u001b[38;5;28;43mself\u001b[39;49m\u001b[38;5;241;43m.\u001b[39;49m\u001b[43mconvert_ids_to_tokens\u001b[49m\u001b[43m(\u001b[49m\u001b[43mtoken_ids\u001b[49m\u001b[43m,\u001b[49m\u001b[43m \u001b[49m\u001b[43mskip_special_tokens\u001b[49m\u001b[38;5;241;43m=\u001b[39;49m\u001b[43mskip_special_tokens\u001b[49m\u001b[43m)\u001b[49m\n\u001b[0;32m   1082\u001b[0m     legacy_added_tokens \u001b[38;5;241m=\u001b[39m \u001b[38;5;28mset\u001b[39m(\u001b[38;5;28mself\u001b[39m\u001b[38;5;241m.\u001b[39m_added_tokens_encoder\u001b[38;5;241m.\u001b[39mkeys()) \u001b[38;5;241m-\u001b[39m \u001b[38;5;28mset\u001b[39m(\u001b[38;5;28mself\u001b[39m\u001b[38;5;241m.\u001b[39mall_special_tokens) \u001b[38;5;241m|\u001b[39m {\n\u001b[0;32m   1083\u001b[0m         token \u001b[38;5;28;01mfor\u001b[39;00m token \u001b[38;5;129;01min\u001b[39;00m \u001b[38;5;28mself\u001b[39m\u001b[38;5;241m.\u001b[39madditional_special_tokens \u001b[38;5;28;01mif\u001b[39;00m \u001b[38;5;28mself\u001b[39m\u001b[38;5;241m.\u001b[39mconvert_tokens_to_ids(token) \u001b[38;5;241m>\u001b[39m\u001b[38;5;241m=\u001b[39m \u001b[38;5;28mself\u001b[39m\u001b[38;5;241m.\u001b[39mvocab_size\n\u001b[0;32m   1084\u001b[0m     }\n\u001b[0;32m   1085\u001b[0m     \u001b[38;5;66;03m# To avoid mixing byte-level and unicode for byte-level BPT\u001b[39;00m\n\u001b[0;32m   1086\u001b[0m     \u001b[38;5;66;03m# we need to build string separately for added tokens and byte-level tokens\u001b[39;00m\n\u001b[0;32m   1087\u001b[0m     \u001b[38;5;66;03m# cf. https://github.com/huggingface/transformers/issues/1133\u001b[39;00m\n",
      "File \u001b[1;32mc:\\Users\\User\\AppData\\Local\\Programs\\Python\\Python311\\Lib\\site-packages\\transformers\\tokenization_utils.py:1056\u001b[0m, in \u001b[0;36mPreTrainedTokenizer.convert_ids_to_tokens\u001b[1;34m(self, ids, skip_special_tokens)\u001b[0m\n\u001b[0;32m   1054\u001b[0m tokens \u001b[38;5;241m=\u001b[39m []\n\u001b[0;32m   1055\u001b[0m \u001b[38;5;28;01mfor\u001b[39;00m index \u001b[38;5;129;01min\u001b[39;00m ids:\n\u001b[1;32m-> 1056\u001b[0m     index \u001b[38;5;241m=\u001b[39m \u001b[38;5;28;43mint\u001b[39;49m\u001b[43m(\u001b[49m\u001b[43mindex\u001b[49m\u001b[43m)\u001b[49m\n\u001b[0;32m   1057\u001b[0m     \u001b[38;5;28;01mif\u001b[39;00m skip_special_tokens \u001b[38;5;129;01mand\u001b[39;00m index \u001b[38;5;129;01min\u001b[39;00m \u001b[38;5;28mself\u001b[39m\u001b[38;5;241m.\u001b[39mall_special_ids:\n\u001b[0;32m   1058\u001b[0m         \u001b[38;5;28;01mcontinue\u001b[39;00m\n",
      "\u001b[1;31mTypeError\u001b[0m: int() argument must be a string, a bytes-like object or a real number, not 'list'"
     ]
    }
   ],
   "source": [
    "from transformers import MBart50Tokenizer, MBartForConditionalGeneration\n",
    "\n",
    "# Load the MBART tokenizer\n",
    "tokenizer = MBart50Tokenizer.from_pretrained(\"facebook/mbart-large-50-many-to-many-mmt\")\n",
    "# Example: Chinese sentences from the CSL-daily dataset\n",
    "texts = [\"这是一个例子句子。\", \"这是另一个例子句子。\"]\n",
    "print(\"tokenizer tgt lang\", tokenizer.tgt_lang)\n",
    "# Tokenize the Chinese text data\n",
    "tokenized_texts = tokenizer(texts, padding=True, truncation=True, return_tensors=\"pt\")\n",
    "print (tokenized_texts)\n",
    "input_ids = tokenized_texts['input_ids']\n",
    "print(input_ids)\n",
    "model = MBartForConditionalGeneration.from_pretrained(\"facebook/mbart-large-50-many-to-many-mmt\")\n",
    "output = model.generate(input_ids, max_length=50)\n",
    "generated_text = tokenizer.decode(input_ids, skip_special_tokens=True)\n",
    "print(generated_text)"
   ]
  },
  {
   "cell_type": "code",
   "execution_count": null,
   "metadata": {},
   "outputs": [],
   "source": []
  },
  {
   "cell_type": "markdown",
   "metadata": {},
   "source": []
  },
  {
   "cell_type": "code",
   "execution_count": 6,
   "metadata": {},
   "outputs": [
    {
     "name": "stdout",
     "output_type": "stream",
     "text": [
      "18401\n"
     ]
    }
   ],
   "source": [
    "import importlib\n",
    "import data_classes\n",
    "importlib.reload(data_classes)\n",
    "from data_classes import * \n",
    "\n",
    "train_dataset = S2T_Dataset(tokenizer, config, args, 'train', training_refurbish = False)\n",
    "print(len(train_dataset.raw_data['info'])) "
   ]
  },
  {
   "cell_type": "code",
   "execution_count": 7,
   "metadata": {},
   "outputs": [
    {
     "data": {
      "text/plain": [
       "torch.Size([109, 3, 224, 224])"
      ]
     },
     "execution_count": 7,
     "metadata": {},
     "output_type": "execute_result"
    }
   ],
   "source": [
    "train_dataset[10000][1].shape"
   ]
  },
  {
   "cell_type": "code",
   "execution_count": 8,
   "metadata": {},
   "outputs": [
    {
     "name": "stdout",
     "output_type": "stream",
     "text": [
      "darwin\n"
     ]
    }
   ],
   "source": [
    "parser = argparse.ArgumentParser('Visual-Language-Pretraining (VLP) V2 scripts', parents=[get_args_parser()])\n",
    "hpargparse.bind(parser, _)\n",
    "args = parser.parse_args()\n",
    "\n",
    "with open(args.config, 'r+', encoding='utf-8') as f:\n",
    "    config = yaml.load(f, Loader=yaml.FullLoader)"
   ]
  },
  {
   "cell_type": "code",
   "execution_count": 9,
   "metadata": {},
   "outputs": [
    {
     "name": "stderr",
     "output_type": "stream",
     "text": [
      "/opt/homebrew/lib/python3.11/site-packages/transformers/tokenization_utils_base.py:1601: FutureWarning: `clean_up_tokenization_spaces` was not set. It will be set to `True` by default. This behavior will be depracted in transformers v4.45, and will be then set to `False` by default. For more details check this issue: https://github.com/huggingface/transformers/issues/31884\n",
      "  warnings.warn(\n"
     ]
    },
    {
     "name": "stdout",
     "output_type": "stream",
     "text": [
      "Creating datasets:\n",
      "#total train set: 18401.\n",
      "trainloader dataset length #total train set: 18401.\n",
      "2301\n",
      "#total dev set: 1077.\n",
      "135\n",
      "#total test set: 1176.\n",
      "147\n"
     ]
    },
    {
     "name": "stderr",
     "output_type": "stream",
     "text": [
      "/opt/homebrew/lib/python3.11/site-packages/transformers/tokenization_utils_base.py:4126: UserWarning: `as_target_tokenizer` is deprecated and will be removed in v5 of Transformers. You can tokenize your labels by using the argument `text_target` of the regular `__call__` method (either in the same call as your input texts if you use the same keyword arguments, or in a separate call.\n",
      "  warnings.warn(\n",
      "Asking to truncate to max_length but no maximum length is provided and the model has no predefined maximum length. Default to no truncation.\n"
     ]
    },
    {
     "name": "stdout",
     "output_type": "stream",
     "text": [
      "Max video length before padding: 76\n",
      "Max length after padding: torch.Size([68, 3, 224, 224])\n",
      "after processing batch size: torch.Size([480, 3, 224, 224])\n",
      "src length batch total: <built-in method sum of Tensor object at 0x2ac2e3a10>\n",
      "About to tokenize the batch...\n",
      "done with tokenizing the batch \n",
      "about to inject noise into training data...\n",
      "noise injection complete \n",
      "WHERE U GO  torch.Size([480, 3, 224, 224])\n",
      "Max video length before padding: 84\n",
      "Max length after padding: torch.Size([68, 3, 224, 224])\n",
      "after processing batch size: torch.Size([508, 3, 224, 224])\n",
      "src length batch total: <built-in method sum of Tensor object at 0x2ac2e3fb0>\n",
      "About to tokenize the batch...\n",
      "done with tokenizing the batch \n",
      "about to inject noise into training data...\n",
      "noise injection complete \n",
      "WHERE U GO  torch.Size([508, 3, 224, 224])\n",
      "Max video length before padding: 116\n",
      "Max length after padding: torch.Size([72, 3, 224, 224])\n",
      "after processing batch size: torch.Size([616, 3, 224, 224])\n",
      "src length batch total: <built-in method sum of Tensor object at 0x2ac2e3ef0>\n",
      "About to tokenize the batch...\n",
      "done with tokenizing the batch \n",
      "about to inject noise into training data...\n",
      "noise injection complete \n",
      "WHERE U GO  torch.Size([616, 3, 224, 224])\n",
      "Max video length before padding: 168\n",
      "Max length after padding: torch.Size([76, 3, 224, 224])\n",
      "after processing batch size: torch.Size([768, 3, 224, 224])\n",
      "src length batch total: <built-in method sum of Tensor object at 0x2ac2e3950>\n",
      "About to tokenize the batch...\n",
      "done with tokenizing the batch \n",
      "about to inject noise into training data...\n",
      "noise injection complete \n",
      "WHERE U GO  torch.Size([768, 3, 224, 224])\n",
      "Max video length before padding: 104\n",
      "Max length after padding: torch.Size([56, 3, 224, 224])\n",
      "after processing batch size: torch.Size([492, 3, 224, 224])\n",
      "src length batch total: <built-in method sum of Tensor object at 0x2ac27a6f0>\n",
      "About to tokenize the batch...\n",
      "done with tokenizing the batch \n",
      "about to inject noise into training data...\n",
      "noise injection complete \n",
      "WHERE U GO  torch.Size([492, 3, 224, 224])\n",
      "Max video length before padding: 124\n",
      "Max length after padding: torch.Size([68, 3, 224, 224])\n",
      "after processing batch size: torch.Size([716, 3, 224, 224])\n",
      "src length batch total: <built-in method sum of Tensor object at 0x2ac2e3710>\n",
      "About to tokenize the batch...\n",
      "done with tokenizing the batch \n",
      "about to inject noise into training data...\n",
      "noise injection complete \n",
      "WHERE U GO  torch.Size([716, 3, 224, 224])\n",
      "Max video length before padding: 148\n",
      "Max length after padding: torch.Size([148, 3, 224, 224])\n",
      "after processing batch size: torch.Size([612, 3, 224, 224])\n",
      "src length batch total: <built-in method sum of Tensor object at 0x2ac2e3ad0>\n",
      "About to tokenize the batch...\n",
      "done with tokenizing the batch \n",
      "about to inject noise into training data...\n",
      "noise injection complete \n",
      "WHERE U GO  torch.Size([612, 3, 224, 224])\n",
      "Max video length before padding: 120\n",
      "Max length after padding: torch.Size([120, 3, 224, 224])\n",
      "after processing batch size: torch.Size([644, 3, 224, 224])\n",
      "src length batch total: <built-in method sum of Tensor object at 0x2ac278890>\n",
      "About to tokenize the batch...\n",
      "done with tokenizing the batch \n",
      "about to inject noise into training data...\n",
      "noise injection complete \n",
      "WHERE U GO  torch.Size([644, 3, 224, 224])\n",
      "Max video length before padding: 144\n",
      "Max length after padding: torch.Size([52, 3, 224, 224])\n",
      "after processing batch size: torch.Size([656, 3, 224, 224])\n",
      "src length batch total: <built-in method sum of Tensor object at 0x2ac2e3fb0>\n",
      "About to tokenize the batch...\n",
      "done with tokenizing the batch \n",
      "about to inject noise into training data...\n",
      "noise injection complete \n",
      "WHERE U GO  torch.Size([656, 3, 224, 224])\n"
     ]
    }
   ],
   "source": [
    "import create_dataloaders\n",
    "import importlib\n",
    "importlib.reload(create_dataloaders)\n",
    "from create_dataloaders import * \n",
    "import prep_args\n",
    "\n",
    "trainloader, devloader, testloader = create_dataloaders(config, args)\n",
    "for batch, (src_input, tgt_input, masked_tgt_input) in enumerate(trainloader): \n",
    "    print(\"WHERE U GO \", src_input['input_ids'].shape)"
   ]
  },
  {
   "cell_type": "code",
   "execution_count": 29,
   "metadata": {},
   "outputs": [
    {
     "name": "stderr",
     "output_type": "stream",
     "text": [
      "Clipping input data to the valid range for imshow with RGB data ([0..1] for floats or [0..255] for integers).\n"
     ]
    },
    {
     "name": "stdout",
     "output_type": "stream",
     "text": [
      "tensor(-2.1179)\n"
     ]
    },
    {
     "data": {
      "image/png": "[encoded data removed]",
      "text/plain": [
       "<Figure size 640x480 with 1 Axes>"
      ]
     },
     "metadata": {},
     "output_type": "display_data"
    }
   ],
   "source": [
    "import numpy as np\n",
    "import matplotlib.pyplot as plt\n",
    "\n",
    "image_matrix = trainloader.dataset[1200][1][20]\n",
    "# Transpose to (height, width, 3) for display\n",
    "image_matrix = np.transpose(image_matrix, (1, 2, 0))\n",
    "print(image_matrix.min())\n",
    "# Display the image\n",
    "plt.imshow(image_matrix)\n",
    "plt.axis('off')\n",
    "plt.show()"
   ]
  },
  {
   "cell_type": "code",
   "execution_count": null,
   "metadata": {},
   "outputs": [
    {
     "data": {
      "text/plain": [
       "1"
      ]
     },
     "execution_count": 12,
     "metadata": {},
     "output_type": "execute_result"
    }
   ],
   "source": [
    "len(trainloader)"
   ]
  },
  {
   "cell_type": "code",
   "execution_count": null,
   "metadata": {},
   "outputs": [
    {
     "name": "stdout",
     "output_type": "stream",
     "text": [
      "img directory:  ../../CSL-Daily/sentence/frames_512x512/train/S004184_P0002_T00\n",
      "torch.Size([512, 3, 224, 224])\n"
     ]
    }
   ],
   "source": [
    "print(train_dataset[10000][1].shape)"
   ]
  },
  {
   "cell_type": "code",
   "execution_count": null,
   "metadata": {},
   "outputs": [
    {
     "data": {
      "text/plain": [
       "2"
      ]
     },
     "execution_count": 14,
     "metadata": {},
     "output_type": "execute_result"
    }
   ],
   "source": [
    "len(train_dataset) #.size()"
   ]
  },
  {
   "cell_type": "code",
   "execution_count": null,
   "metadata": {},
   "outputs": [
    {
     "data": {
      "text/plain": [
       "3"
      ]
     },
     "execution_count": 40,
     "metadata": {},
     "output_type": "execute_result"
    }
   ],
   "source": [
    "len(train_dataset[0])"
   ]
  },
  {
   "cell_type": "code",
   "execution_count": null,
   "metadata": {},
   "outputs": [
    {
     "data": {
      "text/plain": [
       "('S000000_P0000_T00', torch.Size([52, 3, 224, 224]), '你们好！')"
      ]
     },
     "execution_count": 41,
     "metadata": {},
     "output_type": "execute_result"
    }
   ],
   "source": [
    "train_dataset[0][0], train_dataset[0][1].size(), train_dataset[0][2] "
   ]
  },
  {
   "cell_type": "code",
   "execution_count": null,
   "metadata": {},
   "outputs": [
    {
     "name": "stdout",
     "output_type": "stream",
     "text": [
      "S006389_P0000_T00 torch.Size([140, 3, 224, 224]) 很多年轻人不懂得克制自己的情感。\n"
     ]
    }
   ],
   "source": [
    "i = 16000\n",
    "\n",
    "print(train_dataset[i][0], train_dataset[i][1].size(), train_dataset[i][2] ) "
   ]
  },
  {
   "cell_type": "code",
   "execution_count": null,
   "metadata": {},
   "outputs": [
    {
     "data": {
      "text/plain": [
       "493"
      ]
     },
     "execution_count": 48,
     "metadata": {},
     "output_type": "execute_result"
    }
   ],
   "source": [
    "train_dataset.max_length"
   ]
  },
  {
   "cell_type": "code",
   "execution_count": null,
   "metadata": {},
   "outputs": [],
   "source": []
  }
 ],
 "metadata": {
  "kernelspec": {
   "display_name": "Python 3",
   "language": "python",
   "name": "python3"
  },
  "language_info": {
   "codemirror_mode": {
    "name": "ipython",
    "version": 3
   },
   "file_extension": ".py",
   "mimetype": "text/x-python",
   "name": "python",
   "nbconvert_exporter": "python",
   "pygments_lexer": "ipython3",
   "version": "3.11.6"
  }
 },
 "nbformat": 4,
 "nbformat_minor": 2
}
